{
 "cells": [
  {
   "cell_type": "code",
   "execution_count": 30,
   "id": "89d0aba6",
   "metadata": {},
   "outputs": [
    {
     "data": {
      "text/html": [
       "<div>\n",
       "<style scoped>\n",
       "    .dataframe tbody tr th:only-of-type {\n",
       "        vertical-align: middle;\n",
       "    }\n",
       "\n",
       "    .dataframe tbody tr th {\n",
       "        vertical-align: top;\n",
       "    }\n",
       "\n",
       "    .dataframe thead th {\n",
       "        text-align: right;\n",
       "    }\n",
       "</style>\n",
       "<table border=\"1\" class=\"dataframe\">\n",
       "  <thead>\n",
       "    <tr style=\"text-align: right;\">\n",
       "      <th></th>\n",
       "      <th>name</th>\n",
       "      <th>age</th>\n",
       "      <th>city</th>\n",
       "    </tr>\n",
       "  </thead>\n",
       "  <tbody>\n",
       "    <tr>\n",
       "      <th>0</th>\n",
       "      <td>Alice</td>\n",
       "      <td>25</td>\n",
       "      <td>New York</td>\n",
       "    </tr>\n",
       "    <tr>\n",
       "      <th>1</th>\n",
       "      <td>Bob</td>\n",
       "      <td>32</td>\n",
       "      <td>Los Angeles</td>\n",
       "    </tr>\n",
       "    <tr>\n",
       "      <th>2</th>\n",
       "      <td>Charlie</td>\n",
       "      <td>45</td>\n",
       "      <td>Chicago</td>\n",
       "    </tr>\n",
       "    <tr>\n",
       "      <th>3</th>\n",
       "      <td>David</td>\n",
       "      <td>38</td>\n",
       "      <td>Houston</td>\n",
       "    </tr>\n",
       "  </tbody>\n",
       "</table>\n",
       "</div>"
      ],
      "text/plain": [
       "      name  age         city\n",
       "0    Alice   25     New York\n",
       "1      Bob   32  Los Angeles\n",
       "2  Charlie   45      Chicago\n",
       "3    David   38      Houston"
      ]
     },
     "execution_count": 30,
     "metadata": {},
     "output_type": "execute_result"
    }
   ],
   "source": [
    "import pandas as pd\n",
    "\n",
    "# Create a sample DataFrame\n",
    "data = {'name': ['Alice', 'Bob', 'Charlie', 'David'],\n",
    "        'age': [25, 32, 45, 38],\n",
    "        'city': ['New York', 'Los Angeles', 'Chicago', 'Houston']}\n",
    "df = pd.DataFrame(data)\n",
    "df\n"
   ]
  },
  {
   "cell_type": "code",
   "execution_count": 31,
   "id": "07fe7790",
   "metadata": {},
   "outputs": [],
   "source": [
    "#df.drop('age', axis=1)"
   ]
  },
  {
   "cell_type": "code",
   "execution_count": 32,
   "id": "575495fe",
   "metadata": {},
   "outputs": [],
   "source": [
    "#del df['age']"
   ]
  },
  {
   "cell_type": "code",
   "execution_count": 33,
   "id": "85320d19",
   "metadata": {},
   "outputs": [],
   "source": [
    "#df.pop('age')\n"
   ]
  },
  {
   "cell_type": "code",
   "execution_count": 34,
   "id": "bdc374d3",
   "metadata": {},
   "outputs": [],
   "source": [
    "#df.drop(columns=['age'])\n"
   ]
  },
  {
   "cell_type": "code",
   "execution_count": 35,
   "id": "73e77c93",
   "metadata": {},
   "outputs": [],
   "source": [
    "#df.select_dtypes(exclude='object')\n"
   ]
  },
  {
   "cell_type": "code",
   "execution_count": 36,
   "id": "b7dcd927",
   "metadata": {},
   "outputs": [],
   "source": [
    "#df.columns = [col for col in df.columns if col != 'age']\n"
   ]
  },
  {
   "cell_type": "raw",
   "id": "15eee945",
   "metadata": {},
   "source": [
    "del keyword is a Python keyword that is used to delete an element from a list, dictionary, or other data structure. In pandas, it can be used to delete a column from a DataFrame by specifying the column name as a key."
   ]
  },
  {
   "cell_type": "raw",
   "id": "291f2659",
   "metadata": {},
   "source": [
    "drop() method is a pandas method that is used to remove rows or columns from a DataFrame. It takes two mandatory arguments: the labels of the axis (rows or columns) to drop, and the axis (0 or 1) on which to drop. By default, drop() method will drop rows, but you can also drop columns by passing axis=1."
   ]
  },
  {
   "cell_type": "raw",
   "id": "96726714",
   "metadata": {},
   "source": [
    "The del keyword modifies the DataFrame in place, whereas the drop() method returns a new DataFrame with the specified rows or columns removed. So if you want to keep the original DataFrame, you should make a copy of it before using del keyword.\n",
    "\n",
    "The del keyword only support the removal of one column at a time, whereas the drop() method can remove multiple columns/rows at a time by passing a list of column/row labels"
   ]
  },
  {
   "cell_type": "raw",
   "id": "acfd07b1",
   "metadata": {},
   "source": [
    "The drop() method has additional parameter inplace which can be used to drop the column/row in place."
   ]
  },
  {
   "cell_type": "code",
   "execution_count": null,
   "id": "1d4c59e5",
   "metadata": {},
   "outputs": [],
   "source": []
  }
 ],
 "metadata": {
  "kernelspec": {
   "display_name": "Python 3 (ipykernel)",
   "language": "python",
   "name": "python3"
  },
  "language_info": {
   "codemirror_mode": {
    "name": "ipython",
    "version": 3
   },
   "file_extension": ".py",
   "mimetype": "text/x-python",
   "name": "python",
   "nbconvert_exporter": "python",
   "pygments_lexer": "ipython3",
   "version": "3.8.10"
  }
 },
 "nbformat": 4,
 "nbformat_minor": 5
}
