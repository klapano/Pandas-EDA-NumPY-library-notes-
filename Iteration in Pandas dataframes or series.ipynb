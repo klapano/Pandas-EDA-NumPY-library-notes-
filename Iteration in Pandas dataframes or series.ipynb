{
 "cells": [
  {
   "cell_type": "markdown",
   "id": "1d46068d",
   "metadata": {},
   "source": [
    "# Here are a few examples of iteration in pandas:"
   ]
  },
  {
   "cell_type": "markdown",
   "id": "41383fee",
   "metadata": {},
   "source": [
    "# To iterate over a single column in a DataFrame, you can use the iteritems() method on the column, like this:"
   ]
  },
  {
   "cell_type": "code",
   "execution_count": 1,
   "id": "4a10c145",
   "metadata": {},
   "outputs": [
    {
     "name": "stdout",
     "output_type": "stream",
     "text": [
      "(0, 1)\n",
      "(1, 2)\n",
      "(2, 3)\n"
     ]
    }
   ],
   "source": [
    "import pandas as pd\n",
    "\n",
    "df = pd.DataFrame({'A': [1, 2, 3], 'B': [4, 5, 6]})\n",
    "\n",
    "for value in df['A'].iteritems():\n",
    "    print(value)\n",
    "    \n",
    "    #This will print out the index and value for each item in column 'A' of the DataFrame."
   ]
  },
  {
   "cell_type": "code",
   "execution_count": 2,
   "id": "b6d5cda9",
   "metadata": {},
   "outputs": [
    {
     "data": {
      "text/html": [
       "<div>\n",
       "<style scoped>\n",
       "    .dataframe tbody tr th:only-of-type {\n",
       "        vertical-align: middle;\n",
       "    }\n",
       "\n",
       "    .dataframe tbody tr th {\n",
       "        vertical-align: top;\n",
       "    }\n",
       "\n",
       "    .dataframe thead th {\n",
       "        text-align: right;\n",
       "    }\n",
       "</style>\n",
       "<table border=\"1\" class=\"dataframe\">\n",
       "  <thead>\n",
       "    <tr style=\"text-align: right;\">\n",
       "      <th></th>\n",
       "      <th>A</th>\n",
       "      <th>B</th>\n",
       "    </tr>\n",
       "  </thead>\n",
       "  <tbody>\n",
       "    <tr>\n",
       "      <th>0</th>\n",
       "      <td>1</td>\n",
       "      <td>4</td>\n",
       "    </tr>\n",
       "    <tr>\n",
       "      <th>1</th>\n",
       "      <td>2</td>\n",
       "      <td>5</td>\n",
       "    </tr>\n",
       "    <tr>\n",
       "      <th>2</th>\n",
       "      <td>3</td>\n",
       "      <td>6</td>\n",
       "    </tr>\n",
       "  </tbody>\n",
       "</table>\n",
       "</div>"
      ],
      "text/plain": [
       "   A  B\n",
       "0  1  4\n",
       "1  2  5\n",
       "2  3  6"
      ]
     },
     "execution_count": 2,
     "metadata": {},
     "output_type": "execute_result"
    }
   ],
   "source": [
    "df"
   ]
  },
  {
   "cell_type": "markdown",
   "id": "74cecbfe",
   "metadata": {},
   "source": [
    "# To iterate over all the columns of a DataFrame, you can use the iteritems() method on the DataFrame, like this:"
   ]
  },
  {
   "cell_type": "code",
   "execution_count": 3,
   "id": "a2355dde",
   "metadata": {},
   "outputs": [
    {
     "data": {
      "text/html": [
       "<div>\n",
       "<style scoped>\n",
       "    .dataframe tbody tr th:only-of-type {\n",
       "        vertical-align: middle;\n",
       "    }\n",
       "\n",
       "    .dataframe tbody tr th {\n",
       "        vertical-align: top;\n",
       "    }\n",
       "\n",
       "    .dataframe thead th {\n",
       "        text-align: right;\n",
       "    }\n",
       "</style>\n",
       "<table border=\"1\" class=\"dataframe\">\n",
       "  <thead>\n",
       "    <tr style=\"text-align: right;\">\n",
       "      <th></th>\n",
       "      <th>A</th>\n",
       "      <th>B</th>\n",
       "    </tr>\n",
       "  </thead>\n",
       "  <tbody>\n",
       "    <tr>\n",
       "      <th>0</th>\n",
       "      <td>1</td>\n",
       "      <td>4</td>\n",
       "    </tr>\n",
       "    <tr>\n",
       "      <th>1</th>\n",
       "      <td>2</td>\n",
       "      <td>5</td>\n",
       "    </tr>\n",
       "    <tr>\n",
       "      <th>2</th>\n",
       "      <td>3</td>\n",
       "      <td>6</td>\n",
       "    </tr>\n",
       "  </tbody>\n",
       "</table>\n",
       "</div>"
      ],
      "text/plain": [
       "   A  B\n",
       "0  1  4\n",
       "1  2  5\n",
       "2  3  6"
      ]
     },
     "execution_count": 3,
     "metadata": {},
     "output_type": "execute_result"
    }
   ],
   "source": [
    "import pandas as pd\n",
    "\n",
    "df = pd.DataFrame({'A': [1, 2, 3], 'B': [4, 5, 6]})\n",
    "df"
   ]
  },
  {
   "cell_type": "code",
   "execution_count": 4,
   "id": "e9efb388",
   "metadata": {},
   "outputs": [
    {
     "name": "stdout",
     "output_type": "stream",
     "text": [
      "A [1, 2, 3]\n",
      "B [4, 5, 6]\n"
     ]
    }
   ],
   "source": [
    "for column, series in df.iteritems():\n",
    "    print(column, series.tolist())\n",
    "    \n",
    "    \n",
    "#This will print out the name of the column and the values of the series for each column in the DataFrame."
   ]
  },
  {
   "cell_type": "code",
   "execution_count": 5,
   "id": "a93f541c",
   "metadata": {},
   "outputs": [
    {
     "name": "stdout",
     "output_type": "stream",
     "text": [
      "A 0    1\n",
      "1    2\n",
      "2    3\n",
      "Name: A, dtype: int64\n",
      "B 0    4\n",
      "1    5\n",
      "2    6\n",
      "Name: B, dtype: int64\n"
     ]
    }
   ],
   "source": [
    "for column, series in df.iteritems():\n",
    "    print(column, series)"
   ]
  },
  {
   "cell_type": "markdown",
   "id": "0a3fde38",
   "metadata": {},
   "source": [
    "# To iterate over all the rows of a DataFrame, you can use the iterrows() method, like this:"
   ]
  },
  {
   "cell_type": "code",
   "execution_count": 6,
   "id": "3871d6d1",
   "metadata": {},
   "outputs": [
    {
     "data": {
      "text/html": [
       "<div>\n",
       "<style scoped>\n",
       "    .dataframe tbody tr th:only-of-type {\n",
       "        vertical-align: middle;\n",
       "    }\n",
       "\n",
       "    .dataframe tbody tr th {\n",
       "        vertical-align: top;\n",
       "    }\n",
       "\n",
       "    .dataframe thead th {\n",
       "        text-align: right;\n",
       "    }\n",
       "</style>\n",
       "<table border=\"1\" class=\"dataframe\">\n",
       "  <thead>\n",
       "    <tr style=\"text-align: right;\">\n",
       "      <th></th>\n",
       "      <th>A</th>\n",
       "      <th>B</th>\n",
       "    </tr>\n",
       "  </thead>\n",
       "  <tbody>\n",
       "    <tr>\n",
       "      <th>0</th>\n",
       "      <td>1</td>\n",
       "      <td>4</td>\n",
       "    </tr>\n",
       "    <tr>\n",
       "      <th>1</th>\n",
       "      <td>2</td>\n",
       "      <td>5</td>\n",
       "    </tr>\n",
       "    <tr>\n",
       "      <th>2</th>\n",
       "      <td>3</td>\n",
       "      <td>6</td>\n",
       "    </tr>\n",
       "  </tbody>\n",
       "</table>\n",
       "</div>"
      ],
      "text/plain": [
       "   A  B\n",
       "0  1  4\n",
       "1  2  5\n",
       "2  3  6"
      ]
     },
     "execution_count": 6,
     "metadata": {},
     "output_type": "execute_result"
    }
   ],
   "source": [
    "import pandas as pd\n",
    "\n",
    "df = pd.DataFrame({'A': [1, 2, 3], 'B': [4, 5, 6]})\n",
    "df"
   ]
  },
  {
   "cell_type": "code",
   "execution_count": 7,
   "id": "af7bf227",
   "metadata": {},
   "outputs": [
    {
     "name": "stdout",
     "output_type": "stream",
     "text": [
      "1 4\n",
      "2 5\n",
      "3 6\n"
     ]
    }
   ],
   "source": [
    "for index, row in df.iterrows():\n",
    "    print(row['A'], row['B'])\n",
    "    \n",
    "    \n",
    "#This will print out the values of columns 'A' and 'B' for each row in the DataFrame."
   ]
  },
  {
   "cell_type": "markdown",
   "id": "f17a4b11",
   "metadata": {},
   "source": [
    "Note that iterrows() and iteritems() are quite slow as they have to create new python objects for each row or item, itertuples() is faster as it returns the data in the form of namedtuples which are faster than python objects."
   ]
  },
  {
   "cell_type": "code",
   "execution_count": 8,
   "id": "cf018174",
   "metadata": {},
   "outputs": [
    {
     "name": "stdout",
     "output_type": "stream",
     "text": [
      "iterrows(): 14.617839813232422 seconds\n",
      "iteritems(): 0.0 seconds\n",
      "itertuples(): 0.42028093338012695 seconds\n"
     ]
    }
   ],
   "source": [
    "import pandas as pd\n",
    "import time\n",
    "\n",
    "# create a large DataFrame\n",
    "df = pd.DataFrame({'A': range(1000000), 'B': range(1000000)})\n",
    "\n",
    "# time iterrows()\n",
    "start = time.time()\n",
    "for index, row in df.iterrows():\n",
    "    pass\n",
    "end = time.time()\n",
    "print(f\"iterrows(): {end - start} seconds\")\n",
    "\n",
    "# time iteritems()\n",
    "start = time.time()\n",
    "for column, series in df.iteritems():\n",
    "    pass\n",
    "end = time.time()\n",
    "print(f\"iteritems(): {end - start} seconds\")\n",
    "\n",
    "# time itertuples()\n",
    "start = time.time()\n",
    "for row in df.itertuples():\n",
    "    pass\n",
    "end = time.time()\n",
    "print(f\"itertuples(): {end - start} seconds\")\n",
    "\n",
    "\n",
    "#It is highly recommended to use itertuples() if performance is a concern."
   ]
  },
  {
   "cell_type": "markdown",
   "id": "b35574ab",
   "metadata": {},
   "source": [
    "In this example, we create a large DataFrame with 1,000,000 rows and 2 columns, and then time how long it takes to iterate over each row using the iterrows() method, each column using the iteritems() method, and each row using the itertuples() method. "
   ]
  },
  {
   "cell_type": "raw",
   "id": "64fcc183",
   "metadata": {},
   "source": [
    "You will find that iterating with iterrows() and iteritems() takes significantly longer than iterating with itertuples() because iterrows() and iteritems() have to create new python objects for each row or item, whereas itertuples() returns the data in the form of namedtuples which are faster than python objects"
   ]
  },
  {
   "cell_type": "markdown",
   "id": "832cdedd",
   "metadata": {},
   "source": [
    "# few other ways to iterate over the rows or columns of a DataFrame in pandas:"
   ]
  },
  {
   "cell_type": "markdown",
   "id": "773ceaa1",
   "metadata": {},
   "source": [
    "1) df.apply(): This method applies a function to each row or column of a DataFrame. The function is passed a Series or DataFrame corresponding to the row or column, and the result of the function is combined into a new DataFrame or Series. For example, to iterate over the rows of a DataFrame and calculate the sum of each row:"
   ]
  },
  {
   "cell_type": "code",
   "execution_count": 9,
   "id": "60460b5e",
   "metadata": {},
   "outputs": [
    {
     "data": {
      "text/html": [
       "<div>\n",
       "<style scoped>\n",
       "    .dataframe tbody tr th:only-of-type {\n",
       "        vertical-align: middle;\n",
       "    }\n",
       "\n",
       "    .dataframe tbody tr th {\n",
       "        vertical-align: top;\n",
       "    }\n",
       "\n",
       "    .dataframe thead th {\n",
       "        text-align: right;\n",
       "    }\n",
       "</style>\n",
       "<table border=\"1\" class=\"dataframe\">\n",
       "  <thead>\n",
       "    <tr style=\"text-align: right;\">\n",
       "      <th></th>\n",
       "      <th>A</th>\n",
       "      <th>B</th>\n",
       "    </tr>\n",
       "  </thead>\n",
       "  <tbody>\n",
       "    <tr>\n",
       "      <th>0</th>\n",
       "      <td>1</td>\n",
       "      <td>4</td>\n",
       "    </tr>\n",
       "    <tr>\n",
       "      <th>1</th>\n",
       "      <td>2</td>\n",
       "      <td>5</td>\n",
       "    </tr>\n",
       "    <tr>\n",
       "      <th>2</th>\n",
       "      <td>3</td>\n",
       "      <td>6</td>\n",
       "    </tr>\n",
       "  </tbody>\n",
       "</table>\n",
       "</div>"
      ],
      "text/plain": [
       "   A  B\n",
       "0  1  4\n",
       "1  2  5\n",
       "2  3  6"
      ]
     },
     "execution_count": 9,
     "metadata": {},
     "output_type": "execute_result"
    }
   ],
   "source": [
    "import pandas as pd\n",
    "\n",
    "df = pd.DataFrame({'A': [1, 2, 3], 'B': [4, 5, 6]})\n",
    "df"
   ]
  },
  {
   "cell_type": "code",
   "execution_count": 10,
   "id": "93307f48",
   "metadata": {},
   "outputs": [
    {
     "name": "stdout",
     "output_type": "stream",
     "text": [
      "0    5\n",
      "1    7\n",
      "2    9\n",
      "dtype: int64\n"
     ]
    }
   ],
   "source": [
    "row_sums = df.apply(lambda row: row.sum(), axis=1)\n",
    "print(row_sums)"
   ]
  },
  {
   "cell_type": "markdown",
   "id": "2d83e27c",
   "metadata": {},
   "source": [
    "2) df.agg(): This method applies multiple aggregation functions to the DataFrame, returning the result as a DataFrame. For example, to iterate over the columns of a DataFrame and calculate the mean and standard deviation of each column:"
   ]
  },
  {
   "cell_type": "code",
   "execution_count": 11,
   "id": "e77b589a",
   "metadata": {},
   "outputs": [
    {
     "name": "stdout",
     "output_type": "stream",
     "text": [
      "        A    B\n",
      "mean  2.0  5.0\n",
      "std   1.0  1.0\n"
     ]
    }
   ],
   "source": [
    "column_agg = df.agg(['mean', 'std'])\n",
    "print(column_agg)"
   ]
  },
  {
   "cell_type": "markdown",
   "id": "cb080a65",
   "metadata": {},
   "source": [
    "3) df.groupby(): This method groups the rows of a DataFrame by one or more columns, and allows you to perform aggregate calculations on the groups. For example, to iterate over the rows of a DataFrame grouped by the values of column 'A' and calculate the mean of column 'B' for each group:"
   ]
  },
  {
   "cell_type": "code",
   "execution_count": 12,
   "id": "af345867",
   "metadata": {},
   "outputs": [
    {
     "name": "stdout",
     "output_type": "stream",
     "text": [
      "     B\n",
      "A     \n",
      "1  4.0\n",
      "2  5.0\n",
      "3  6.0\n"
     ]
    }
   ],
   "source": [
    "grouped = df.groupby('A').mean()\n",
    "print(grouped)"
   ]
  },
  {
   "cell_type": "markdown",
   "id": "a107cc67",
   "metadata": {},
   "source": [
    "All these method are slower than itertuples() but they have the advantage of being more readable and easy to use as they don't need to iterate over the rows and columns, they perform a specific operation, they are more high level operations."
   ]
  },
  {
   "cell_type": "raw",
   "id": "7a522e1e",
   "metadata": {},
   "source": [
    "df.apply(): This method applies a function to each row or column of a DataFrame, and returns a new DataFrame or Series with the results of the function."
   ]
  },
  {
   "cell_type": "code",
   "execution_count": 25,
   "id": "805ad003",
   "metadata": {},
   "outputs": [
    {
     "data": {
      "text/html": [
       "<div>\n",
       "<style scoped>\n",
       "    .dataframe tbody tr th:only-of-type {\n",
       "        vertical-align: middle;\n",
       "    }\n",
       "\n",
       "    .dataframe tbody tr th {\n",
       "        vertical-align: top;\n",
       "    }\n",
       "\n",
       "    .dataframe thead th {\n",
       "        text-align: right;\n",
       "    }\n",
       "</style>\n",
       "<table border=\"1\" class=\"dataframe\">\n",
       "  <thead>\n",
       "    <tr style=\"text-align: right;\">\n",
       "      <th></th>\n",
       "      <th>A</th>\n",
       "      <th>B</th>\n",
       "      <th>sum</th>\n",
       "    </tr>\n",
       "  </thead>\n",
       "  <tbody>\n",
       "    <tr>\n",
       "      <th>0</th>\n",
       "      <td>1</td>\n",
       "      <td>4</td>\n",
       "      <td>5</td>\n",
       "    </tr>\n",
       "    <tr>\n",
       "      <th>1</th>\n",
       "      <td>2</td>\n",
       "      <td>5</td>\n",
       "      <td>7</td>\n",
       "    </tr>\n",
       "    <tr>\n",
       "      <th>2</th>\n",
       "      <td>3</td>\n",
       "      <td>6</td>\n",
       "      <td>9</td>\n",
       "    </tr>\n",
       "  </tbody>\n",
       "</table>\n",
       "</div>"
      ],
      "text/plain": [
       "   A  B  sum\n",
       "0  1  4    5\n",
       "1  2  5    7\n",
       "2  3  6    9"
      ]
     },
     "execution_count": 25,
     "metadata": {},
     "output_type": "execute_result"
    }
   ],
   "source": [
    "import pandas as pd\n",
    "\n",
    "df = pd.DataFrame({'A': [1, 2, 3], 'B': [4, 5, 6]})\n",
    "\n",
    "df['sum'] = df.apply(lambda x: x['A'] + x['B'], axis=1)\n",
    "df"
   ]
  },
  {
   "cell_type": "markdown",
   "id": "c14fb1f1",
   "metadata": {},
   "source": [
    "# Here is an example of using the df.apply() method with the axis parameter set to 0 (which is the default value) to apply a function to each column of a DataFrame:"
   ]
  },
  {
   "cell_type": "code",
   "execution_count": 27,
   "id": "cba8d96b",
   "metadata": {},
   "outputs": [
    {
     "data": {
      "text/html": [
       "<div>\n",
       "<style scoped>\n",
       "    .dataframe tbody tr th:only-of-type {\n",
       "        vertical-align: middle;\n",
       "    }\n",
       "\n",
       "    .dataframe tbody tr th {\n",
       "        vertical-align: top;\n",
       "    }\n",
       "\n",
       "    .dataframe thead th {\n",
       "        text-align: right;\n",
       "    }\n",
       "</style>\n",
       "<table border=\"1\" class=\"dataframe\">\n",
       "  <thead>\n",
       "    <tr style=\"text-align: right;\">\n",
       "      <th></th>\n",
       "      <th>A</th>\n",
       "      <th>B</th>\n",
       "    </tr>\n",
       "  </thead>\n",
       "  <tbody>\n",
       "    <tr>\n",
       "      <th>0</th>\n",
       "      <td>1</td>\n",
       "      <td>4</td>\n",
       "    </tr>\n",
       "    <tr>\n",
       "      <th>1</th>\n",
       "      <td>2</td>\n",
       "      <td>5</td>\n",
       "    </tr>\n",
       "    <tr>\n",
       "      <th>2</th>\n",
       "      <td>3</td>\n",
       "      <td>6</td>\n",
       "    </tr>\n",
       "  </tbody>\n",
       "</table>\n",
       "</div>"
      ],
      "text/plain": [
       "   A  B\n",
       "0  1  4\n",
       "1  2  5\n",
       "2  3  6"
      ]
     },
     "execution_count": 27,
     "metadata": {},
     "output_type": "execute_result"
    }
   ],
   "source": [
    "import pandas as pd\n",
    "\n",
    "df = pd.DataFrame({'A': [1, 2, 3], 'B': [4, 5, 6]})\n",
    "\n",
    "df\n"
   ]
  },
  {
   "cell_type": "code",
   "execution_count": 28,
   "id": "6a34a669",
   "metadata": {},
   "outputs": [
    {
     "name": "stdout",
     "output_type": "stream",
     "text": [
      "A    2\n",
      "B    2\n",
      "dtype: int64\n"
     ]
    }
   ],
   "source": [
    "result = df.apply(lambda x: x.max() - x.min())\n",
    "print(result)\n",
    "\n",
    "\n",
    "#3-1 in column A.\n",
    "#6-4 in column B."
   ]
  },
  {
   "cell_type": "markdown",
   "id": "9ff9ac74",
   "metadata": {},
   "source": [
    "# Here is an example of using the df.apply() method with the axis parameter set to 1 to apply a function to each row of a DataFrame:"
   ]
  },
  {
   "cell_type": "code",
   "execution_count": 29,
   "id": "d6cc59ff",
   "metadata": {},
   "outputs": [
    {
     "data": {
      "text/html": [
       "<div>\n",
       "<style scoped>\n",
       "    .dataframe tbody tr th:only-of-type {\n",
       "        vertical-align: middle;\n",
       "    }\n",
       "\n",
       "    .dataframe tbody tr th {\n",
       "        vertical-align: top;\n",
       "    }\n",
       "\n",
       "    .dataframe thead th {\n",
       "        text-align: right;\n",
       "    }\n",
       "</style>\n",
       "<table border=\"1\" class=\"dataframe\">\n",
       "  <thead>\n",
       "    <tr style=\"text-align: right;\">\n",
       "      <th></th>\n",
       "      <th>A</th>\n",
       "      <th>B</th>\n",
       "    </tr>\n",
       "  </thead>\n",
       "  <tbody>\n",
       "    <tr>\n",
       "      <th>0</th>\n",
       "      <td>1</td>\n",
       "      <td>4</td>\n",
       "    </tr>\n",
       "    <tr>\n",
       "      <th>1</th>\n",
       "      <td>2</td>\n",
       "      <td>5</td>\n",
       "    </tr>\n",
       "    <tr>\n",
       "      <th>2</th>\n",
       "      <td>3</td>\n",
       "      <td>6</td>\n",
       "    </tr>\n",
       "  </tbody>\n",
       "</table>\n",
       "</div>"
      ],
      "text/plain": [
       "   A  B\n",
       "0  1  4\n",
       "1  2  5\n",
       "2  3  6"
      ]
     },
     "execution_count": 29,
     "metadata": {},
     "output_type": "execute_result"
    }
   ],
   "source": [
    "import pandas as pd\n",
    "\n",
    "df = pd.DataFrame({'A': [1, 2, 3], 'B': [4, 5, 6]})\n",
    "df"
   ]
  },
  {
   "cell_type": "code",
   "execution_count": 30,
   "id": "1df79e9a",
   "metadata": {},
   "outputs": [
    {
     "name": "stdout",
     "output_type": "stream",
     "text": [
      "0    3\n",
      "1    3\n",
      "2    3\n",
      "dtype: int64\n"
     ]
    }
   ],
   "source": [
    "result = df.apply(lambda x: x.max() - x.min(), axis=1)\n",
    "print(result)\n",
    "\n",
    "\n",
    "# 4-1\n",
    "#5-2\n",
    "#6-3"
   ]
  },
  {
   "cell_type": "markdown",
   "id": "79aaca4d",
   "metadata": {},
   "source": [
    "# ------------------------------------------------------------------------------------------------"
   ]
  },
  {
   "cell_type": "markdown",
   "id": "5dbb7960",
   "metadata": {},
   "source": [
    "# you can use the map() and filter() functions to iterate over the rows or columns of a DataFrame in pandas."
   ]
  },
  {
   "cell_type": "markdown",
   "id": "81b9ce74",
   "metadata": {},
   "source": [
    "1) df.map(): This method applies a function to each element of a DataFrame or Series. It returns a new DataFrame or Series with the same shape as the original, but with the values replaced by the results of the function. For example, to iterate over the rows of a DataFrame and change the values of column 'A' based on a certain condition:"
   ]
  },
  {
   "cell_type": "code",
   "execution_count": 13,
   "id": "88769f9b",
   "metadata": {},
   "outputs": [
    {
     "data": {
      "text/html": [
       "<div>\n",
       "<style scoped>\n",
       "    .dataframe tbody tr th:only-of-type {\n",
       "        vertical-align: middle;\n",
       "    }\n",
       "\n",
       "    .dataframe tbody tr th {\n",
       "        vertical-align: top;\n",
       "    }\n",
       "\n",
       "    .dataframe thead th {\n",
       "        text-align: right;\n",
       "    }\n",
       "</style>\n",
       "<table border=\"1\" class=\"dataframe\">\n",
       "  <thead>\n",
       "    <tr style=\"text-align: right;\">\n",
       "      <th></th>\n",
       "      <th>A</th>\n",
       "      <th>B</th>\n",
       "    </tr>\n",
       "  </thead>\n",
       "  <tbody>\n",
       "    <tr>\n",
       "      <th>0</th>\n",
       "      <td>1</td>\n",
       "      <td>4</td>\n",
       "    </tr>\n",
       "    <tr>\n",
       "      <th>1</th>\n",
       "      <td>2</td>\n",
       "      <td>5</td>\n",
       "    </tr>\n",
       "    <tr>\n",
       "      <th>2</th>\n",
       "      <td>3</td>\n",
       "      <td>6</td>\n",
       "    </tr>\n",
       "  </tbody>\n",
       "</table>\n",
       "</div>"
      ],
      "text/plain": [
       "   A  B\n",
       "0  1  4\n",
       "1  2  5\n",
       "2  3  6"
      ]
     },
     "execution_count": 13,
     "metadata": {},
     "output_type": "execute_result"
    }
   ],
   "source": [
    "import pandas as pd\n",
    "\n",
    "df = pd.DataFrame({'A': [1, 2, 3], 'B': [4, 5, 6]})\n",
    "df"
   ]
  },
  {
   "cell_type": "code",
   "execution_count": 14,
   "id": "8a8541ac",
   "metadata": {},
   "outputs": [
    {
     "name": "stdout",
     "output_type": "stream",
     "text": [
      "   A  B\n",
      "0  1  4\n",
      "1  4  5\n",
      "2  6  6\n"
     ]
    }
   ],
   "source": [
    "df['A'] = df['A'].map(lambda x: x*2 if x>1 else x)\n",
    "print(df)"
   ]
  },
  {
   "cell_type": "raw",
   "id": "51a950a3",
   "metadata": {},
   "source": [
    "df.map(): This method applies a function to each element of a DataFrame or Series, and returns a new DataFrame or Series with the same shape as the original, but with the values replaced by the results of the function."
   ]
  },
  {
   "cell_type": "code",
   "execution_count": 22,
   "id": "dea6c723",
   "metadata": {},
   "outputs": [
    {
     "name": "stdout",
     "output_type": "stream",
     "text": [
      "   A  B\n",
      "0  2  4\n",
      "1  4  5\n",
      "2  6  6\n"
     ]
    }
   ],
   "source": [
    "import pandas as pd\n",
    "\n",
    "df = pd.DataFrame({'A': [1, 2, 3], 'B': [4, 5, 6]})\n",
    "\n",
    "df['A'] = df['A'].map(lambda x: x*2)\n",
    "print(df)\n"
   ]
  },
  {
   "cell_type": "markdown",
   "id": "a25c9b93",
   "metadata": {},
   "source": [
    "# ------------------------------------------------------------------------------------------------------------------------------------"
   ]
  },
  {
   "cell_type": "markdown",
   "id": "707c28f6",
   "metadata": {},
   "source": [
    "# df filter only columns with a certain condition"
   ]
  },
  {
   "cell_type": "markdown",
   "id": "68d09c64",
   "metadata": {},
   "source": [
    "In this example, the filter method is applied to the columns of the DataFrame, and the lambda function is applied to each column, returning only columns where the condition is met, in this case where column 'A' has values greater than 2.\n",
    "\n",
    "Please note that this method will filter the columns not the rows"
   ]
  },
  {
   "cell_type": "code",
   "execution_count": 36,
   "id": "4be3262b",
   "metadata": {},
   "outputs": [
    {
     "name": "stdout",
     "output_type": "stream",
     "text": [
      "   A  C\n",
      "0  1  7\n",
      "1  2  8\n",
      "2  3  9\n"
     ]
    }
   ],
   "source": [
    "import pandas as pd\n",
    "\n",
    "df = pd.DataFrame({'A': [1, 2, 3], 'B': [4, 5, 6], 'C':[7,8,9]})\n",
    "\n",
    "columns_to_keep = ['A','C']\n",
    "filtered_df = df[columns_to_keep]\n",
    "print(filtered_df)\n"
   ]
  },
  {
   "cell_type": "code",
   "execution_count": 37,
   "id": "385d0e49",
   "metadata": {},
   "outputs": [
    {
     "name": "stdout",
     "output_type": "stream",
     "text": [
      "   A  C\n",
      "0  1  7\n",
      "1  2  8\n",
      "2  3  9\n"
     ]
    }
   ],
   "source": [
    "filtered_df = df.loc[:,columns_to_keep]\n",
    "print(filtered_df)\n"
   ]
  },
  {
   "cell_type": "markdown",
   "id": "98d6760d",
   "metadata": {},
   "source": [
    "# df filter only rows"
   ]
  },
  {
   "cell_type": "raw",
   "id": "d5d48bf4",
   "metadata": {},
   "source": [
    "the condition df['A'] > 2 is applied to the DataFrame df, and only the rows where this condition is True are selected and returned in the filtered DataFrame."
   ]
  },
  {
   "cell_type": "code",
   "execution_count": 32,
   "id": "d2728c42",
   "metadata": {},
   "outputs": [
    {
     "name": "stdout",
     "output_type": "stream",
     "text": [
      "   A  B\n",
      "2  3  6\n"
     ]
    }
   ],
   "source": [
    "import pandas as pd\n",
    "\n",
    "df = pd.DataFrame({'A': [1, 2, 3], 'B': [4, 5, 6]})\n",
    "\n",
    "filtered_df = df[df['A'] > 2]\n",
    "print(filtered_df)\n"
   ]
  },
  {
   "cell_type": "markdown",
   "id": "314866a8",
   "metadata": {},
   "source": [
    "# How do we specify if we iterate over a column or rows?"
   ]
  },
  {
   "cell_type": "markdown",
   "id": "21ad6397",
   "metadata": {},
   "source": [
    "When you iterate over the rows or columns of a DataFrame in pandas, you can specify whether you want to iterate over the rows or columns by setting the axis parameter of the method."
   ]
  },
  {
   "cell_type": "raw",
   "id": "8ecfbece",
   "metadata": {},
   "source": [
    "1) To iterate over the rows of a DataFrame, you can use the iterrows() method, which returns a tuple containing the index of the row and the row itself as a Series. The default value of the axis parameter is 0, which means that the method operates on the rows."
   ]
  },
  {
   "cell_type": "code",
   "execution_count": 18,
   "id": "f14587be",
   "metadata": {},
   "outputs": [
    {
     "name": "stdout",
     "output_type": "stream",
     "text": [
      "0 [1, 4]\n",
      "1 [2, 5]\n",
      "2 [3, 6]\n"
     ]
    }
   ],
   "source": [
    "import pandas as pd\n",
    "\n",
    "df = pd.DataFrame({'A': [1, 2, 3], 'B': [4, 5, 6]})\n",
    "\n",
    "for index, row in df.iterrows():\n",
    "    print(index, row.to_list())"
   ]
  },
  {
   "cell_type": "raw",
   "id": "8b6ffd74",
   "metadata": {},
   "source": [
    "To iterate over the columns of a DataFrame, you can use the iteritems() method, which returns a tuple containing the name of the column and the column itself as a Series. To iterate over the columns, you have to set the axis parameter to 1."
   ]
  },
  {
   "cell_type": "code",
   "execution_count": 20,
   "id": "1a12573a",
   "metadata": {},
   "outputs": [
    {
     "name": "stdout",
     "output_type": "stream",
     "text": [
      "A [1, 2, 3]\n",
      "B [4, 5, 6]\n"
     ]
    }
   ],
   "source": [
    "import pandas as pd\n",
    "\n",
    "df = pd.DataFrame({'A': [1, 2, 3], 'B': [4, 5, 6]})\n",
    "\n",
    "for column, series in df.iteritems():\n",
    "    print(column, series.to_list())"
   ]
  },
  {
   "cell_type": "markdown",
   "id": "04de3b82",
   "metadata": {},
   "source": [
    "To iterate over the rows of a DataFrame, you can use the itertuples() method, which returns a named tuple containing the values of each column for each row. The fastest way."
   ]
  },
  {
   "cell_type": "code",
   "execution_count": 21,
   "id": "110fa263",
   "metadata": {},
   "outputs": [
    {
     "name": "stdout",
     "output_type": "stream",
     "text": [
      "Pandas(Index=0, A=1, B=4)\n",
      "Pandas(Index=1, A=2, B=5)\n",
      "Pandas(Index=2, A=3, B=6)\n"
     ]
    }
   ],
   "source": [
    "import pandas as pd\n",
    "\n",
    "df = pd.DataFrame({'A': [1, 2, 3], 'B': [4, 5, 6]})\n",
    "\n",
    "for row in df.itertuples():\n",
    "    print(row)\n"
   ]
  },
  {
   "cell_type": "markdown",
   "id": "695b39cb",
   "metadata": {},
   "source": [
    "In general, when iterating over the DataFrame, it is more efficient to iterate over the rows instead of the columns because it allows you to access the values of multiple columns for each row, rather than just the values of one column for each row."
   ]
  },
  {
   "cell_type": "markdown",
   "id": "45c71644",
   "metadata": {},
   "source": [
    "# ------------------------------------------------------------------------------------------------"
   ]
  },
  {
   "cell_type": "markdown",
   "id": "b546e9e1",
   "metadata": {},
   "source": [
    "# loc and iloc"
   ]
  },
  {
   "cell_type": "raw",
   "id": "9584c393",
   "metadata": {},
   "source": [
    "loc and iloc are two powerful indexers in pandas that allow you to select rows and columns of a DataFrame based on either their labels (loc) or their integer positions (iloc)."
   ]
  },
  {
   "cell_type": "code",
   "execution_count": 43,
   "id": "0190348f",
   "metadata": {},
   "outputs": [
    {
     "data": {
      "text/html": [
       "<div>\n",
       "<style scoped>\n",
       "    .dataframe tbody tr th:only-of-type {\n",
       "        vertical-align: middle;\n",
       "    }\n",
       "\n",
       "    .dataframe tbody tr th {\n",
       "        vertical-align: top;\n",
       "    }\n",
       "\n",
       "    .dataframe thead th {\n",
       "        text-align: right;\n",
       "    }\n",
       "</style>\n",
       "<table border=\"1\" class=\"dataframe\">\n",
       "  <thead>\n",
       "    <tr style=\"text-align: right;\">\n",
       "      <th></th>\n",
       "      <th>name</th>\n",
       "      <th>age</th>\n",
       "      <th>city</th>\n",
       "    </tr>\n",
       "  </thead>\n",
       "  <tbody>\n",
       "    <tr>\n",
       "      <th>0</th>\n",
       "      <td>Alice</td>\n",
       "      <td>25</td>\n",
       "      <td>New York</td>\n",
       "    </tr>\n",
       "    <tr>\n",
       "      <th>1</th>\n",
       "      <td>Bob</td>\n",
       "      <td>32</td>\n",
       "      <td>Los Angeles</td>\n",
       "    </tr>\n",
       "    <tr>\n",
       "      <th>2</th>\n",
       "      <td>Charlie</td>\n",
       "      <td>45</td>\n",
       "      <td>Chicago</td>\n",
       "    </tr>\n",
       "    <tr>\n",
       "      <th>3</th>\n",
       "      <td>David</td>\n",
       "      <td>38</td>\n",
       "      <td>Houston</td>\n",
       "    </tr>\n",
       "  </tbody>\n",
       "</table>\n",
       "</div>"
      ],
      "text/plain": [
       "      name  age         city\n",
       "0    Alice   25     New York\n",
       "1      Bob   32  Los Angeles\n",
       "2  Charlie   45      Chicago\n",
       "3    David   38      Houston"
      ]
     },
     "execution_count": 43,
     "metadata": {},
     "output_type": "execute_result"
    }
   ],
   "source": [
    "import pandas as pd\n",
    "\n",
    "# Create a sample DataFrame\n",
    "data = {'name': ['Alice', 'Bob', 'Charlie', 'David'],\n",
    "        'age': [25, 32, 45, 38],\n",
    "        'city': ['New York', 'Los Angeles', 'Chicago', 'Houston']}\n",
    "df = pd.DataFrame(data)\n",
    "df"
   ]
  },
  {
   "cell_type": "code",
   "execution_count": 39,
   "id": "bdb528f3",
   "metadata": {},
   "outputs": [
    {
     "name": "stdout",
     "output_type": "stream",
     "text": [
      "name            Bob\n",
      "age              32\n",
      "city    Los Angeles\n",
      "Name: 1, dtype: object\n"
     ]
    }
   ],
   "source": [
    "# Using the 'loc' indexer to select a specific row by label\n",
    "print(df.loc[1])"
   ]
  },
  {
   "cell_type": "code",
   "execution_count": 40,
   "id": "1694f6f9",
   "metadata": {},
   "outputs": [
    {
     "name": "stdout",
     "output_type": "stream",
     "text": [
      "name    Charlie\n",
      "age          45\n",
      "city    Chicago\n",
      "Name: 2, dtype: object\n"
     ]
    }
   ],
   "source": [
    "# Using the 'iloc' indexer to select a specific row by index\n",
    "print(df.iloc[2])"
   ]
  },
  {
   "cell_type": "markdown",
   "id": "fcf1cac9",
   "metadata": {},
   "source": [
    "# df.loc[1, 'name'] selects the 'name' value of the second row by label"
   ]
  },
  {
   "cell_type": "code",
   "execution_count": 41,
   "id": "f6b5f776",
   "metadata": {},
   "outputs": [
    {
     "name": "stdout",
     "output_type": "stream",
     "text": [
      "Bob\n"
     ]
    }
   ],
   "source": [
    "# Using the 'loc' indexer to select a specific value by label\n",
    "print(df.loc[1, 'name'])"
   ]
  },
  {
   "cell_type": "markdown",
   "id": "60b9a0ce",
   "metadata": {},
   "source": [
    "# df.iloc[2, 0] selects the first column value of the third row by index."
   ]
  },
  {
   "cell_type": "code",
   "execution_count": 42,
   "id": "dd0858f7",
   "metadata": {},
   "outputs": [
    {
     "name": "stdout",
     "output_type": "stream",
     "text": [
      "Charlie\n"
     ]
    }
   ],
   "source": [
    "# Using the 'iloc' indexer to select a specific value by index\n",
    "print(df.iloc[2, 0])"
   ]
  },
  {
   "cell_type": "markdown",
   "id": "8dfb5d01",
   "metadata": {},
   "source": [
    "# ----------------------------------------------------------------"
   ]
  },
  {
   "cell_type": "code",
   "execution_count": 3,
   "id": "a7e691d9",
   "metadata": {},
   "outputs": [
    {
     "data": {
      "text/html": [
       "<div>\n",
       "<style scoped>\n",
       "    .dataframe tbody tr th:only-of-type {\n",
       "        vertical-align: middle;\n",
       "    }\n",
       "\n",
       "    .dataframe tbody tr th {\n",
       "        vertical-align: top;\n",
       "    }\n",
       "\n",
       "    .dataframe thead th {\n",
       "        text-align: right;\n",
       "    }\n",
       "</style>\n",
       "<table border=\"1\" class=\"dataframe\">\n",
       "  <thead>\n",
       "    <tr style=\"text-align: right;\">\n",
       "      <th></th>\n",
       "      <th>A</th>\n",
       "      <th>B</th>\n",
       "    </tr>\n",
       "  </thead>\n",
       "  <tbody>\n",
       "    <tr>\n",
       "      <th>0</th>\n",
       "      <td>1</td>\n",
       "      <td>4</td>\n",
       "    </tr>\n",
       "    <tr>\n",
       "      <th>1</th>\n",
       "      <td>2</td>\n",
       "      <td>5</td>\n",
       "    </tr>\n",
       "    <tr>\n",
       "      <th>2</th>\n",
       "      <td>3</td>\n",
       "      <td>6</td>\n",
       "    </tr>\n",
       "  </tbody>\n",
       "</table>\n",
       "</div>"
      ],
      "text/plain": [
       "   A  B\n",
       "0  1  4\n",
       "1  2  5\n",
       "2  3  6"
      ]
     },
     "execution_count": 3,
     "metadata": {},
     "output_type": "execute_result"
    }
   ],
   "source": [
    "import pandas as pd\n",
    "\n",
    "df = pd.DataFrame({'A': [1, 2, 3], 'B': [4, 5, 6]})\n",
    "df"
   ]
  },
  {
   "cell_type": "code",
   "execution_count": 4,
   "id": "7d56035e",
   "metadata": {},
   "outputs": [
    {
     "name": "stdout",
     "output_type": "stream",
     "text": [
      "[1, 2, 3]\n"
     ]
    }
   ],
   "source": [
    "column_values = [row['A'] for index, row in df.iterrows()]\n",
    "print(column_values)"
   ]
  },
  {
   "cell_type": "code",
   "execution_count": 6,
   "id": "48956814",
   "metadata": {},
   "outputs": [
    {
     "data": {
      "text/plain": [
       "0     1\n",
       "1    16\n",
       "2    81\n",
       "Name: A, dtype: int64"
      ]
     },
     "execution_count": 6,
     "metadata": {},
     "output_type": "execute_result"
    }
   ],
   "source": [
    "df['A'] = df['A'].apply(lambda x: x**2)\n",
    "df['A']"
   ]
  },
  {
   "cell_type": "code",
   "execution_count": 7,
   "id": "8cfda13a",
   "metadata": {},
   "outputs": [
    {
     "data": {
      "text/plain": [
       "0       1\n",
       "1     256\n",
       "2    6561\n",
       "Name: C, dtype: int64"
      ]
     },
     "execution_count": 7,
     "metadata": {},
     "output_type": "execute_result"
    }
   ],
   "source": [
    "df['C'] = [val ** 2 for val in df['A']]\n",
    "df['C']"
   ]
  },
  {
   "cell_type": "code",
   "execution_count": null,
   "id": "cc1574ed",
   "metadata": {},
   "outputs": [],
   "source": []
  }
 ],
 "metadata": {
  "kernelspec": {
   "display_name": "Python 3 (ipykernel)",
   "language": "python",
   "name": "python3"
  },
  "language_info": {
   "codemirror_mode": {
    "name": "ipython",
    "version": 3
   },
   "file_extension": ".py",
   "mimetype": "text/x-python",
   "name": "python",
   "nbconvert_exporter": "python",
   "pygments_lexer": "ipython3",
   "version": "3.8.10"
  }
 },
 "nbformat": 4,
 "nbformat_minor": 5
}
