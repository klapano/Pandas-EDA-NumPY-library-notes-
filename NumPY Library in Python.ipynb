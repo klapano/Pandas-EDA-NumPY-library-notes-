{
 "cells": [
  {
   "cell_type": "markdown",
   "id": "81394ab6",
   "metadata": {},
   "source": [
    "np.where() is a function in the NumPy library that is used to return an array of the same shape as the input array, but with elements replaced based on a given condition. It takes three arguments: the condition, the value to be assigned to elements that satisfy the condition, and the value to be assigned to elements that do not satisfy the condition."
   ]
  },
  {
   "cell_type": "raw",
   "id": "8c1199fc",
   "metadata": {},
   "source": [
    "np.where(condition, x, y)"
   ]
  },
  {
   "cell_type": "code",
   "execution_count": null,
   "id": "6bd1e8a8",
   "metadata": {},
   "outputs": [],
   "source": [
    "np.where(df['age'] > 25, 'young', 'old')"
   ]
  },
  {
   "cell_type": "raw",
   "id": "2b0ad758",
   "metadata": {},
   "source": [
    "df.where(condition, other=value)"
   ]
  },
  {
   "cell_type": "code",
   "execution_count": null,
   "id": "72e59eb5",
   "metadata": {},
   "outputs": [],
   "source": [
    "df.where(df['age'] > 25, 'young')"
   ]
  },
  {
   "cell_type": "markdown",
   "id": "87945fd5",
   "metadata": {},
   "source": [
    "to filter and manipulate data based on conditions, but they have different use cases and may be more appropriate for different situations.\n",
    "\n",
    "For example, if you want to create a new array with elements replaced based on a condition, you can use the np.where() function. However, if you want to filter data in a DataFrame and keep the original DataFrame intact, you can use the DataFrame.where() method.\n",
    "\n",
    "In addition, the DataFrame.where() method can be used to replace the NaN values with a specific value."
   ]
  },
  {
   "cell_type": "markdown",
   "id": "c62695f5",
   "metadata": {},
   "source": [
    "The main difference between np.where() and DataFrame.where() is that the np.where() function returns a new array with elements replaced based on the condition, whereas the DataFrame.where() method returns a new DataFrame with elements replaced based on the condition, but keeps the original DataFrame intact.\n",
    "Also, np.where() is a function of numpy library and can be used for array-like objects in general (not just pandas dataframes)."
   ]
  },
  {
   "cell_type": "markdown",
   "id": "b8387cdc",
   "metadata": {},
   "source": [
    "to filter and manipulate data based on conditions, but they have different use cases and may be more appropriate for different situations.\n",
    "\n",
    "For example, if you want to create a new array with elements replaced based on a condition, you can use the np.where() function. However, if you want to filter data in a DataFrame and keep the original DataFrame intact, you can use the DataFrame.where() method.\n",
    "\n",
    "In addition, the DataFrame.where() method can be used to replace the NaN values with a specific value."
   ]
  },
  {
   "cell_type": "raw",
   "id": "bd365683",
   "metadata": {},
   "source": [
    "df.where(pd.notnull(df), other=value)\n"
   ]
  },
  {
   "cell_type": "markdown",
   "id": "97bf5b9e",
   "metadata": {},
   "source": [
    "Another difference is that np.where() returns a numpy array, while DataFrame.where() returns a dataframe with the same index and columns.\n",
    "\n"
   ]
  },
  {
   "cell_type": "markdown",
   "id": "1514ecd9",
   "metadata": {},
   "source": [
    "The primary difference between a DataFrame and an array is that a DataFrame is two-dimensional, with rows and columns, while an array is one-dimensional, with elements that can be accessed by an index. DataFrames are mostly in the form of SQL tables and are associated with tabular data [1], while arrays are associated with numerical data and computation [1]. Additionally, a DataFrame has an additional index, which is a list of row labels, while an array does not."
   ]
  },
  {
   "cell_type": "code",
   "execution_count": null,
   "id": "470e1320",
   "metadata": {},
   "outputs": [],
   "source": []
  }
 ],
 "metadata": {
  "kernelspec": {
   "display_name": "Python 3 (ipykernel)",
   "language": "python",
   "name": "python3"
  },
  "language_info": {
   "codemirror_mode": {
    "name": "ipython",
    "version": 3
   },
   "file_extension": ".py",
   "mimetype": "text/x-python",
   "name": "python",
   "nbconvert_exporter": "python",
   "pygments_lexer": "ipython3",
   "version": "3.8.10"
  }
 },
 "nbformat": 4,
 "nbformat_minor": 5
}
