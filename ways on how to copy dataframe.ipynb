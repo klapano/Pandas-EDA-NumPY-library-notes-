{
 "cells": [
  {
   "cell_type": "code",
   "execution_count": 1,
   "id": "1c2ade29",
   "metadata": {},
   "outputs": [
    {
     "data": {
      "text/html": [
       "<div>\n",
       "<style scoped>\n",
       "    .dataframe tbody tr th:only-of-type {\n",
       "        vertical-align: middle;\n",
       "    }\n",
       "\n",
       "    .dataframe tbody tr th {\n",
       "        vertical-align: top;\n",
       "    }\n",
       "\n",
       "    .dataframe thead th {\n",
       "        text-align: right;\n",
       "    }\n",
       "</style>\n",
       "<table border=\"1\" class=\"dataframe\">\n",
       "  <thead>\n",
       "    <tr style=\"text-align: right;\">\n",
       "      <th></th>\n",
       "      <th>name</th>\n",
       "      <th>age</th>\n",
       "      <th>city</th>\n",
       "    </tr>\n",
       "  </thead>\n",
       "  <tbody>\n",
       "    <tr>\n",
       "      <th>0</th>\n",
       "      <td>Alice</td>\n",
       "      <td>25</td>\n",
       "      <td>New York</td>\n",
       "    </tr>\n",
       "    <tr>\n",
       "      <th>1</th>\n",
       "      <td>Bob</td>\n",
       "      <td>32</td>\n",
       "      <td>Los Angeles</td>\n",
       "    </tr>\n",
       "    <tr>\n",
       "      <th>2</th>\n",
       "      <td>Charlie</td>\n",
       "      <td>45</td>\n",
       "      <td>Chicago</td>\n",
       "    </tr>\n",
       "    <tr>\n",
       "      <th>3</th>\n",
       "      <td>David</td>\n",
       "      <td>38</td>\n",
       "      <td>Houston</td>\n",
       "    </tr>\n",
       "  </tbody>\n",
       "</table>\n",
       "</div>"
      ],
      "text/plain": [
       "      name  age         city\n",
       "0    Alice   25     New York\n",
       "1      Bob   32  Los Angeles\n",
       "2  Charlie   45      Chicago\n",
       "3    David   38      Houston"
      ]
     },
     "execution_count": 1,
     "metadata": {},
     "output_type": "execute_result"
    }
   ],
   "source": [
    "import pandas as pd\n",
    "\n",
    "# Create a sample DataFrame\n",
    "data = {'name': ['Alice', 'Bob', 'Charlie', 'David'],\n",
    "        'age': [25, 32, 45, 38],\n",
    "        'city': ['New York', 'Los Angeles', 'Chicago', 'Houston']}\n",
    "df = pd.DataFrame(data)\n",
    "df\n"
   ]
  },
  {
   "cell_type": "markdown",
   "id": "d5fa2d25",
   "metadata": {},
   "source": [
    "Using the copy() method: You can use the copy() method to create a new DataFrame that is a copy of the original DataFrame."
   ]
  },
  {
   "cell_type": "code",
   "execution_count": 2,
   "id": "2dfebabc",
   "metadata": {},
   "outputs": [],
   "source": [
    "df_copy = df.copy()"
   ]
  },
  {
   "cell_type": "raw",
   "id": "909b4ab3",
   "metadata": {},
   "source": [
    "Using the deepcopy() method: You can use the deepcopy() method from the copy module to create a new DataFrame that is a deep copy of the original DataFrame. A deep copy creates a new object with a new memory address, so changes to the copy will not affect the original DataFrame."
   ]
  },
  {
   "cell_type": "code",
   "execution_count": 3,
   "id": "ce3a5f55",
   "metadata": {},
   "outputs": [],
   "source": [
    "from copy import deepcopy\n",
    "df_copy = deepcopy(df)"
   ]
  },
  {
   "cell_type": "raw",
   "id": "560a0c03",
   "metadata": {},
   "source": [
    "Using the copy() method with pd.DataFrame(): You can create a new DataFrame by passing the original DataFrame to the pd.DataFrame() function and use the copy() method."
   ]
  },
  {
   "cell_type": "code",
   "execution_count": 4,
   "id": "8260f9d2",
   "metadata": {},
   "outputs": [],
   "source": [
    "df_copy = pd.DataFrame(df).copy()"
   ]
  },
  {
   "cell_type": "markdown",
   "id": "41dc0ece",
   "metadata": {},
   "source": [
    "Using the assignment operator: You can create a new DataFrame by assigning the original DataFrame to a new variable."
   ]
  },
  {
   "cell_type": "code",
   "execution_count": 5,
   "id": "9de1a874",
   "metadata": {},
   "outputs": [],
   "source": [
    "df_copy = df\n",
    "\n",
    "\n",
    "#It's important to note that the last method is not actually creating a new copy, \n",
    "#it's just creating a new reference to the same DataFrame. It means that if you perform an action on the copy DataFrame \n",
    "#it will affect the original DataFrame as well.\n",
    "\n"
   ]
  }
 ],
 "metadata": {
  "kernelspec": {
   "display_name": "Python 3 (ipykernel)",
   "language": "python",
   "name": "python3"
  },
  "language_info": {
   "codemirror_mode": {
    "name": "ipython",
    "version": 3
   },
   "file_extension": ".py",
   "mimetype": "text/x-python",
   "name": "python",
   "nbconvert_exporter": "python",
   "pygments_lexer": "ipython3",
   "version": "3.8.10"
  }
 },
 "nbformat": 4,
 "nbformat_minor": 5
}
